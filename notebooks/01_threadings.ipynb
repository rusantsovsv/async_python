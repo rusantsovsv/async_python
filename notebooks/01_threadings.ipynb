{
 "cells": [
  {
   "cell_type": "markdown",
   "metadata": {},
   "source": [
    "Лучшие практики применения многопоточности (общая форма)"
   ]
  },
  {
   "cell_type": "code",
   "execution_count": 1,
   "metadata": {},
   "outputs": [],
   "source": [
    "from concurrent.futures import ThreadPoolExecutor as Executor\n",
    "\n",
    "import os\n",
    "from time import sleep\n",
    "from threading import Thread"
   ]
  },
  {
   "cell_type": "code",
   "execution_count": 2,
   "metadata": {},
   "outputs": [
    {
     "name": "stderr",
     "output_type": "stream",
     "text": [
      "UsageError: Line magic function `%script` not found (But cell magic `%%script` exists, did you mean that instead?).\n"
     ]
    }
   ],
   "source": [
    "%script False\n",
    "def worker(data):\n",
    "    \"\"\"<process the data>\"\"\"\n",
    "    \n",
    "with Executor(max_workers=10) as exe:\n",
    "    future = exe.submit(worker, data)"
   ]
  },
  {
   "cell_type": "markdown",
   "metadata": {},
   "source": [
    "### Пример использования: роботы и столовые приборы"
   ]
  },
  {
   "cell_type": "code",
   "execution_count": 3,
   "metadata": {},
   "outputs": [],
   "source": [
    "import threading\n",
    "from queue import Queue"
   ]
  },
  {
   "cell_type": "code",
   "execution_count": 4,
   "metadata": {},
   "outputs": [],
   "source": [
    "class ThreadBot(threading.Thread): #1\n",
    "    def __init__(self):\n",
    "        super().__init__(target=self.manage_table) #2\n",
    "        self.cutlery = Cutlery(knives=0, forks=0) #3\n",
    "        self.tasks = Queue() #4\n",
    "        \n",
    "    def manage_table(self):\n",
    "        while True: #5\n",
    "            task = self.tasks.get()\n",
    "            if task == 'prepare table':\n",
    "                kitchen.give(to=self.cutlery, knives=4, forks=4) #6\n",
    "            elif task =='clear table':\n",
    "                self.cutlery.give(to=kitchen, knives=4, forks=4)\n",
    "            elif task == 'shutdown':\n",
    "                return"
   ]
  },
  {
   "cell_type": "markdown",
   "metadata": {},
   "source": [
    "1. ThreadBot - подкласс Thread\n",
    "2. manage_table() - целевая функция потока (будет определена позже)\n",
    "3. Бот будет ждать столики и будет отвечать за некоторые столовые приборы. Каждый бот отслеживает столовые приборы, которые он взял на кухне. (Класс Cutlery будет определен позже.)\n",
    "4. Перед ботом также будут поставлены задачи. Они будут добавлены в эту очередь задач, и затем бот будет выполнять их во время основного цикла обработки.\n",
    "5. Основная процедура этого бота - бесконечный цикл. Если вам нужно выключить бота, вы должны дать им задачу выключения.\n",
    "6. Для этого бота определены всего три задачи. Первая - подготовить стол, - это то, что должен сделать бот, чтобы подготовить новый стол к обслуживанию. Для нашего теста единственное требование - взять с кухни наборы столовых приборов и поставить их на стол. Очистить стол используется, когда стол должен быть очищен: бот должен вернуть использованные столовые приборы обратно на кухню. shutdown просто отключает бота."
   ]
  },
  {
   "cell_type": "markdown",
   "metadata": {},
   "source": [
    "#### Определение объекта Cutlery"
   ]
  },
  {
   "cell_type": "code",
   "execution_count": 18,
   "metadata": {},
   "outputs": [],
   "source": [
    "from attr import attrs, attrib\n",
    "\n",
    "@attrs #1\n",
    "class Cutlery:\n",
    "    knives = attrib(default=0) #2\n",
    "    forks = attrib(default=0)\n",
    "    \n",
    "    def give(self, to: 'Cutlery' ,knives=0, forks=0): #3\n",
    "        self.change(-knives, -forks)\n",
    "        to.change(knives, forks)\n",
    "        \n",
    "    def change(self, knives, forks): #4\n",
    "        self.knives += knives\n",
    "        self.forks += forks"
   ]
  },
  {
   "cell_type": "code",
   "execution_count": 40,
   "metadata": {},
   "outputs": [],
   "source": [
    "kitchen = Cutlery(knives=100, forks=100) #5\n",
    "bots = [ThreadBot() for i in range(10)] #6"
   ]
  },
  {
   "cell_type": "code",
   "execution_count": 44,
   "metadata": {},
   "outputs": [],
   "source": [
    "def test_kitchen(num_tables):\n",
    "    \n",
    "    \n",
    "    for bot in bots:\n",
    "        for i in range(num_tables): #7\n",
    "            bot.tasks.put('prepare table')\n",
    "            bot.tasks.put('clear table')\n",
    "        bot.tasks.put('shutdown') #8\n",
    "    \n",
    "    print('Kitchen inventory before service:', kitchen)\n",
    "\n",
    "    for bot in bots:\n",
    "        bot.start()\n",
    "\n",
    "    for bot in bots:\n",
    "        bot.join()\n",
    "\n",
    "    print('Kitchen inventory after service:', kitchen)"
   ]
  },
  {
   "cell_type": "markdown",
   "metadata": {},
   "source": [
    "1. attrs, библиотека Python с открытым исходным кодом, не имеющая ничего общего с потоками или asyncio, - действительно замечательная библиотека для упрощения создания классов. Здесь декоратор @attrs гарантирует, что этот класс Cutlery обычный шаблонный код (например, __init __ ()) устанавливается автоматически.\n",
    "2. Функция attrib () предоставляет простой способ создания атрибутов, включая значения по умолчанию, которые вы обычно могли бы обрабатывать как аргументы ключевого слова в __init __ () метод.\n",
    "3. Этот метод используется для переноса ножей и вилок с одного предмета столовых приборов на другой. Обычно он используется ботами для получения столовых приборов с кухни для новых столов и для возврата столовых приборов на кухню после того, как стол убран.\n",
    "4. Это очень простая служебная функция для изменения данных инвентаризации в экземпляре объекта.\n",
    "5. Мы определили кухню. Обычно каждый из ботов получает столовые приборы в этом месте. Также требуется, чтобы они возвращали столовые приборы в этот инвентарь, когда стол убран.\n",
    "6. Этот скрипт выполняется при тестировании. Для нашего теста мы будем использовать 10 ThreadBots.\n",
    "7. Мы получаем количество столов в качестве параметра , а затем даем каждому боту это количество задач для подготовки и очистки столов в ресторане.\n",
    "8. Задача выключения заставит ботов останавливаться (так что bot.join () немного ниже вернется). Остальная часть скрипта выводит диагностические сообщения и запускает ботов."
   ]
  },
  {
   "cell_type": "markdown",
   "metadata": {},
   "source": [
    "Стратегия тестирования кода в основном включает в себя запуск группы ThreadBots над последовательностью обслуживания столов. Каждый ThreadBot должен делать следующее:\n",
    "- Приготовьте «стол на четверых», что означает получение на кухне четырех комплектов ножей и вилок.\n",
    "- Очистка стола, что означает возвращение набора из четырех ножей и вилок со стола обратно на кухню.\n",
    "- "
   ]
  },
  {
   "cell_type": "markdown",
   "metadata": {},
   "source": [
    "Если вы запускаете группу ThreadBots на нескольких столах определенное количество раз, вы ожидаете, что после того, как вся работа будет сделана, все ножи и вилки вернутся на кухню и будут учтены."
   ]
  },
  {
   "cell_type": "markdown",
   "metadata": {},
   "source": [
    "Вы мудро решаете протестировать это с сотней таблиц, которые должны быть подготовлены и очищены каждым ThreadBot, и все они будут работать одновременно, потому что вы хотите убедиться, что они могут работать вместе и ничего не пойдет не так. Это результат этого\n",
    "контрольная работа:"
   ]
  },
  {
   "cell_type": "code",
   "execution_count": 45,
   "metadata": {},
   "outputs": [
    {
     "name": "stdout",
     "output_type": "stream",
     "text": [
      "Kitchen inventory before service: Cutlery(knives=100, forks=100)\n",
      "Kitchen inventory after service: Cutlery(knives=100, forks=100)\n"
     ]
    }
   ],
   "source": [
    "kitchen = Cutlery(knives=100, forks=100) #5\n",
    "bots = [ThreadBot() for i in range(10)] #6\n",
    "\n",
    "\n",
    "NUM_TABLES = 100\n",
    "test_kitchen(NUM_TABLES)"
   ]
  },
  {
   "cell_type": "markdown",
   "metadata": {},
   "source": [
    "Все ножи и вилки снова оказываются на кухне! Итак, поздравляете себя с написать хороший код и развернуть ботов. К сожалению, на практике то и дело Вы обнаруживаете, что не получаете все столовые приборы, когда ресторан закрывается. Вы замечаете, что проблема усугубляется, когда вы добавляете больше ботов и / или место становится более загруженным. Разочарованный, вы снова запускаете тесты, ничего не меняя, кроме размера теста (10 000 таблиц!):"
   ]
  },
  {
   "cell_type": "code",
   "execution_count": 50,
   "metadata": {},
   "outputs": [
    {
     "name": "stdout",
     "output_type": "stream",
     "text": [
      "Kitchen inventory before service: Cutlery(knives=100, forks=100)\n",
      "Kitchen inventory after service: Cutlery(knives=100, forks=104)\n"
     ]
    }
   ],
   "source": [
    "kitchen = Cutlery(knives=100, forks=100) #5\n",
    "bots = [ThreadBot() for i in range(10)] #6\n",
    "\n",
    "\n",
    "NUM_TABLES = 10000\n",
    "test_kitchen(NUM_TABLES)"
   ]
  },
  {
   "cell_type": "markdown",
   "metadata": {},
   "source": [
    "Подведем итоги ситуации:\n",
    "- Ваш код ThreadBot очень прост и удобен для чтения. Логика в порядке.\n",
    "- У вас есть рабочий тест (со 100 таблицами), который воспроизводимо успешно проходит.\n",
    "- У вас есть более длинный тест (с 10 000 таблиц), который воспроизводимо терпит неудачу.\n",
    "- Более длинный тест терпит неудачу по разным невоспроизводимым причинам."
   ]
  },
  {
   "cell_type": "markdown",
   "metadata": {},
   "source": [
    "Это несколько типичных признаков ошибки состояния гонки. Опытные читатели уже\n",
    "видели причину, так что давайте рассмотрим это сейчас. Все сводится к этому методу\n",
    "внутри нашего класса Cutlery:"
   ]
  },
  {
   "cell_type": "code",
   "execution_count": 51,
   "metadata": {},
   "outputs": [],
   "source": [
    "def change(self, knives, forks):\n",
    "    self.knives += knives\n",
    "    self.forks += forks"
   ]
  },
  {
   "cell_type": "markdown",
   "metadata": {},
   "source": [
    "Встроенное суммирование, + =, реализовано внутри (внутри кода C для самого интерпретатора Python) в виде нескольких отдельных шагов:\n",
    "1. Считайте текущее значение self.knives во временное место.\n",
    "2. Добавьте новое значение, ножи, к значению во временном местоположении.\n",
    "3. Скопируйте новую сумму из временного местоположения обратно в исходное местоположение."
   ]
  },
  {
   "cell_type": "markdown",
   "metadata": {},
   "source": [
    "Проблема с вытесняющей многозадачностью заключается в том, что любой поток, занятый этими шагами, может быть прерван в любое время, а другому потоку может быть предоставлена возможность выполнить те же шаги."
   ]
  },
  {
   "cell_type": "markdown",
   "metadata": {},
   "source": [
    "В этом случае предположим, что ThreadBot A выполняет шаг 1, а затем планировщик ОС приостанавливает A и переключается на ThreadBot B. B также считывает текущее значение self.knives; затем выполнение возвращается к A. A увеличивает свою общую сумму и записывает ее обратно, но затем B продолжает работу с того места, где она была приостановлена (после шага 1), и она увеличивает и записывает свою новую сумму, тем самым стирая изменение, сделанное A!"
   ]
  },
  {
   "cell_type": "markdown",
   "metadata": {},
   "source": [
    "Хотя это может показаться сложным, этот пример состояния гонки - это самый простой из возможных случаев. Мы смогли проверить весь код, и у нас даже есть тесты, которые могут воспроизвести проблему по запросу. В реальном мире, в больших проектах, попробуйте представить, насколько это может стать сложнее!"
   ]
  },
  {
   "cell_type": "markdown",
   "metadata": {},
   "source": [
    "Эту проблему можно решить, установив блокировку на изменение общего\n",
    "state (представьте, что мы добавили threading.Lock в класс Cutlery):"
   ]
  },
  {
   "cell_type": "code",
   "execution_count": 52,
   "metadata": {},
   "outputs": [],
   "source": [
    "def change(self, knives, forks):\n",
    "    with self.lock:\n",
    "        self.knives += knives\n",
    "        self.forks += forks"
   ]
  },
  {
   "cell_type": "markdown",
   "metadata": {},
   "source": [
    "Но для этого необходимо знать все места, где состояние будет разделяться между несколькими потоками. Этот подход жизнеспособен, когда вы контролируете весь исходный код, но становится очень трудным, когда используется много сторонних библиотек - что, вероятно, имеет место в Python благодаря замечательной экосистеме с открытым исходным кодом."
   ]
  }
 ],
 "metadata": {
  "kernelspec": {
   "display_name": "Python 3",
   "language": "python",
   "name": "python3"
  },
  "language_info": {
   "codemirror_mode": {
    "name": "ipython",
    "version": 3
   },
   "file_extension": ".py",
   "mimetype": "text/x-python",
   "name": "python",
   "nbconvert_exporter": "python",
   "pygments_lexer": "ipython3",
   "version": "3.6.9"
  }
 },
 "nbformat": 4,
 "nbformat_minor": 4
}
