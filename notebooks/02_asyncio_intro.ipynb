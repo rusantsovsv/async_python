{
 "cells": [
  {
   "cell_type": "markdown",
   "metadata": {},
   "source": [
    "# Обзор Asyncio"
   ]
  },
  {
   "cell_type": "markdown",
   "metadata": {},
   "source": [
    "Asyncio предоставляет еще один инструмент для параллельного программирования на Python, который легче, чем потоки или многопроцессорность. В очень простом смысле это достигается за счет того, что цикл событий выполняет набор задач, с ключевым отличием в том, что каждая задача выбирает, когда передать управление циклу событий."
   ]
  },
  {
   "cell_type": "markdown",
   "metadata": {},
   "source": [
    "API asyncio в Python сложен, потому что он нацелен на решение разных проблем для разных групп людей. К сожалению, доступно очень мало рекомендаций, которые помогут вам выяснить, какие части asyncio важны для вашей группы."
   ]
  },
  {
   "cell_type": "markdown",
   "metadata": {},
   "source": [
    "Есть две основные группы юзеров Asyncio:\n",
    "1. Конечные разработчики - Они хотят создавать приложения, использующие asyncio.\n",
    "2. Разработчики фреймворков - Они хотят создавать фреймворки и библиотеки, которые разработчики конечных пользователей могут использовать в своих приложениях."
   ]
  },
  {
   "cell_type": "markdown",
   "metadata": {},
   "source": [
    "Большая часть путаницы вокруг asyncio в современном сообществе происходит из-за непонимания этой разницы. Например, официальная документация Python для asyncio больше подходит для разработчиков фреймворков, чем для конечных пользователей. Это означает, что разработчики конечных пользователей, читающие эти документы, быстро приходят в шок от очевидной сложности. Вы в некоторой степени вынуждены все это осмыслить, прежде чем сможете что-либо с этим сделать."
   ]
  },
  {
   "cell_type": "markdown",
   "metadata": {},
   "source": [
    "Я надеюсь, что эта книга поможет вам отличить функции Asyncio, которые важны для разработчиков конечных пользователей, и те, которые важны для разработчиков фреймворков."
   ]
  },
  {
   "cell_type": "markdown",
   "metadata": {},
   "source": [
    "# Quickstart"
   ]
  },
  {
   "cell_type": "markdown",
   "metadata": {},
   "source": [
    "Небольшую часть всего asyncio API, которую можно резюмировать следующим образом:\n",
    "1. Запустить asyncio event loop (цикл событий).\n",
    "2. Вызвать async/await функцию.\n",
    "3. Создать задачу (task), выполняющуюся в цикле.\n",
    "4. Подождать, пока множество задач выполнятся.\n",
    "5. Завершить цикл после завершения всех конкурентных задач."
   ]
  },
  {
   "cell_type": "markdown",
   "metadata": {},
   "source": [
    "В этом разделе мы рассмотрим эти основные функции и увидим, как выйти из цикла с помощью программирования на основе событий на Python."
   ]
  },
  {
   "cell_type": "markdown",
   "metadata": {},
   "source": [
    "### Код запускать в pycharm"
   ]
  },
  {
   "cell_type": "code",
   "execution_count": 1,
   "metadata": {},
   "outputs": [],
   "source": [
    "import asyncio, time\n",
    "\n",
    "# патчим asyncio, чтобы небыло ошибок в jupyter. В pycharm этого делать\n",
    "# не надо\n",
    "import nest_asyncio\n",
    "nest_asyncio.apply()"
   ]
  },
  {
   "cell_type": "code",
   "execution_count": 7,
   "metadata": {},
   "outputs": [],
   "source": [
    "async def main():\n",
    "    print(f'{time.ctime()} Hello!')\n",
    "    await asyncio.sleep(1)\n",
    "    print(f'{time.ctime()} Goodbye!')"
   ]
  },
  {
   "cell_type": "code",
   "execution_count": 8,
   "metadata": {},
   "outputs": [
    {
     "name": "stdout",
     "output_type": "stream",
     "text": [
      "Sat Jan  2 17:30:21 2021 Hello!\n",
      "Sat Jan  2 17:30:22 2021 Goodbye!\n"
     ]
    }
   ],
   "source": [
    "asyncio.run(main())"
   ]
  },
  {
   "cell_type": "code",
   "execution_count": 4,
   "metadata": {},
   "outputs": [
    {
     "name": "stdout",
     "output_type": "stream",
     "text": [
      "Sat Jan  2 17:30:03 2021 Hello!\n",
      "Sat Jan  2 17:30:04 2021 Goodbye!\n"
     ]
    },
    {
     "ename": "RuntimeError",
     "evalue": "Cannot close a running event loop",
     "output_type": "error",
     "traceback": [
      "\u001b[0;31m---------------------------------------------------------------------------\u001b[0m",
      "\u001b[0;31mRuntimeError\u001b[0m                              Traceback (most recent call last)",
      "\u001b[0;32m<ipython-input-4-10caf04848f2>\u001b[0m in \u001b[0;36m<module>\u001b[0;34m\u001b[0m\n\u001b[1;32m      8\u001b[0m \u001b[0mgroup\u001b[0m \u001b[0;34m=\u001b[0m \u001b[0masyncio\u001b[0m\u001b[0;34m.\u001b[0m\u001b[0mgather\u001b[0m\u001b[0;34m(\u001b[0m\u001b[0;34m*\u001b[0m\u001b[0mpending\u001b[0m\u001b[0;34m,\u001b[0m \u001b[0mreturn_exceptions\u001b[0m\u001b[0;34m=\u001b[0m\u001b[0;32mTrue\u001b[0m\u001b[0;34m)\u001b[0m \u001b[0;31m#4\u001b[0m\u001b[0;34m\u001b[0m\u001b[0;34m\u001b[0m\u001b[0m\n\u001b[1;32m      9\u001b[0m \u001b[0mloop\u001b[0m\u001b[0;34m.\u001b[0m\u001b[0mrun_until_complete\u001b[0m\u001b[0;34m(\u001b[0m\u001b[0mgroup\u001b[0m\u001b[0;34m)\u001b[0m \u001b[0;31m#5\u001b[0m\u001b[0;34m\u001b[0m\u001b[0;34m\u001b[0m\u001b[0m\n\u001b[0;32m---> 10\u001b[0;31m \u001b[0mloop\u001b[0m\u001b[0;34m.\u001b[0m\u001b[0mclose\u001b[0m\u001b[0;34m(\u001b[0m\u001b[0;34m)\u001b[0m \u001b[0;31m#6\u001b[0m\u001b[0;34m\u001b[0m\u001b[0;34m\u001b[0m\u001b[0m\n\u001b[0m",
      "\u001b[0;32m/usr/lib/python3.6/asyncio/unix_events.py\u001b[0m in \u001b[0;36mclose\u001b[0;34m(self)\u001b[0m\n\u001b[1;32m     61\u001b[0m \u001b[0;34m\u001b[0m\u001b[0m\n\u001b[1;32m     62\u001b[0m     \u001b[0;32mdef\u001b[0m \u001b[0mclose\u001b[0m\u001b[0;34m(\u001b[0m\u001b[0mself\u001b[0m\u001b[0;34m)\u001b[0m\u001b[0;34m:\u001b[0m\u001b[0;34m\u001b[0m\u001b[0;34m\u001b[0m\u001b[0m\n\u001b[0;32m---> 63\u001b[0;31m         \u001b[0msuper\u001b[0m\u001b[0;34m(\u001b[0m\u001b[0;34m)\u001b[0m\u001b[0;34m.\u001b[0m\u001b[0mclose\u001b[0m\u001b[0;34m(\u001b[0m\u001b[0;34m)\u001b[0m\u001b[0;34m\u001b[0m\u001b[0;34m\u001b[0m\u001b[0m\n\u001b[0m\u001b[1;32m     64\u001b[0m         \u001b[0;32mif\u001b[0m \u001b[0;32mnot\u001b[0m \u001b[0msys\u001b[0m\u001b[0;34m.\u001b[0m\u001b[0mis_finalizing\u001b[0m\u001b[0;34m(\u001b[0m\u001b[0;34m)\u001b[0m\u001b[0;34m:\u001b[0m\u001b[0;34m\u001b[0m\u001b[0;34m\u001b[0m\u001b[0m\n\u001b[1;32m     65\u001b[0m             \u001b[0;32mfor\u001b[0m \u001b[0msig\u001b[0m \u001b[0;32min\u001b[0m \u001b[0mlist\u001b[0m\u001b[0;34m(\u001b[0m\u001b[0mself\u001b[0m\u001b[0;34m.\u001b[0m\u001b[0m_signal_handlers\u001b[0m\u001b[0;34m)\u001b[0m\u001b[0;34m:\u001b[0m\u001b[0;34m\u001b[0m\u001b[0;34m\u001b[0m\u001b[0m\n",
      "\u001b[0;32m/usr/lib/python3.6/asyncio/selector_events.py\u001b[0m in \u001b[0;36mclose\u001b[0;34m(self)\u001b[0m\n\u001b[1;32m     94\u001b[0m     \u001b[0;32mdef\u001b[0m \u001b[0mclose\u001b[0m\u001b[0;34m(\u001b[0m\u001b[0mself\u001b[0m\u001b[0;34m)\u001b[0m\u001b[0;34m:\u001b[0m\u001b[0;34m\u001b[0m\u001b[0;34m\u001b[0m\u001b[0m\n\u001b[1;32m     95\u001b[0m         \u001b[0;32mif\u001b[0m \u001b[0mself\u001b[0m\u001b[0;34m.\u001b[0m\u001b[0mis_running\u001b[0m\u001b[0;34m(\u001b[0m\u001b[0;34m)\u001b[0m\u001b[0;34m:\u001b[0m\u001b[0;34m\u001b[0m\u001b[0;34m\u001b[0m\u001b[0m\n\u001b[0;32m---> 96\u001b[0;31m             \u001b[0;32mraise\u001b[0m \u001b[0mRuntimeError\u001b[0m\u001b[0;34m(\u001b[0m\u001b[0;34m\"Cannot close a running event loop\"\u001b[0m\u001b[0;34m)\u001b[0m\u001b[0;34m\u001b[0m\u001b[0;34m\u001b[0m\u001b[0m\n\u001b[0m\u001b[1;32m     97\u001b[0m         \u001b[0;32mif\u001b[0m \u001b[0mself\u001b[0m\u001b[0;34m.\u001b[0m\u001b[0mis_closed\u001b[0m\u001b[0;34m(\u001b[0m\u001b[0;34m)\u001b[0m\u001b[0;34m:\u001b[0m\u001b[0;34m\u001b[0m\u001b[0;34m\u001b[0m\u001b[0m\n\u001b[1;32m     98\u001b[0m             \u001b[0;32mreturn\u001b[0m\u001b[0;34m\u001b[0m\u001b[0;34m\u001b[0m\u001b[0m\n",
      "\u001b[0;31mRuntimeError\u001b[0m: Cannot close a running event loop"
     ]
    }
   ],
   "source": [
    "#The “Hello-ish World” of Asyncio\n",
    "loop = asyncio.get_event_loop() #1\n",
    "task = loop.create_task(main()) #2\n",
    "loop.run_until_complete(task) #3\n",
    "pending = asyncio.all_tasks(loop=loop)\n",
    "for task in pending:\n",
    "    task.cancel()\n",
    "group = asyncio.gather(*pending, return_exceptions=True) #4\n",
    "loop.run_until_complete(group) #5\n",
    "loop.close() #6"
   ]
  },
  {
   "cell_type": "markdown",
   "metadata": {},
   "source": [
    "1. Вам нужен экземпляр цикла, прежде чем вы сможете запускать какие-либо сопрограммы, и вот как вы его получаете. Фактически, где бы вы его ни вызывали, get_event_loop () будет каждый раз выдавать один и тот же экземпляр цикла, если вы используете только один поток. Если вы\n",
    "внутри функции async def вместо этого следует вызвать asyncio.get_running_loop (), который всегда дает то, что вы ожидаете. Более подробно об этом будет рассказано далее в книге.\n",
    "2. В данном случае конкретным вызовом является loop.create_task (main ()). Ваша функция сопрограммы не будет выполняться, пока вы этого не сделаете. Мы говорим, что create_task () планирует запуск вашей сопрограммы в цикле. Возвращенный объект задачи может использоваться для отслеживания состояния задачи (например, выполняется ли она еще или завершена), а также может использоваться для получения значения результата из завершенной сопрограммы. Вы можете отменить задачу с помощью task.cancel ().\n",
    "3. Этот вызов заблокирует текущий поток, который обычно является основным потоком. Обратите внимание, что run_until_complete () будет поддерживать цикл только до тех пор, пока данное сопутствующее событие не завершится, но все другие задачи, запланированные в цикле, также будут выполняться во время выполнения цикла. Внутри asyncio.run () вызывает run_until_complete () для вас и, следовательно, таким же образом блокирует основной поток.\n",
    "4. Когда «основная» часть программы разблокируется из-за приема сигнала процесса или из-за остановки цикла некоторым кодом, вызывающим loop.stop (), запускается код после run_until_complete (). Стандартная идиома, показанная здесь, состоит в том, чтобы собрать все еще ожидающие задачи, отменить их, а затем снова использовать loop.run_until_complete (), пока эти задачи не будут выполнены. gather () - это метод сбора. Обратите внимание, что asyncio.run () выполняет все отмены, сбор и ожидание завершения отложенных задач.\n",
    "5. loop.close () обычно является последним действием: он должен вызываться в остановленном цикле, он очищает все очереди и завершает работу исполнителя. Остановленный цикл можно перезапустить, но замкнутый цикл исчезнет навсегда. Внутренне asyncio.run () закроет цикл перед возвратом. Это нормально, потому что run () создает новый цикл событий каждый раз, когда вы его вызываете."
   ]
  },
  {
   "cell_type": "markdown",
   "metadata": {},
   "source": [
    "Пример 3"
   ]
  },
  {
   "cell_type": "code",
   "execution_count": 5,
   "metadata": {},
   "outputs": [],
   "source": [
    "# базовый интерфейс исполнителя\n",
    "async def main():\n",
    "    print(f'{time.ctime()} Hello!')\n",
    "    await asyncio.sleep(1.0)\n",
    "    print(f'{time.ctime()} Goodbye!')\n",
    "\n",
    "\n",
    "def blocking(): #1\n",
    "    time.sleep(0.5) #2\n",
    "    print(f'{time.ctime()} Hello from a thread')"
   ]
  },
  {
   "cell_type": "code",
   "execution_count": 6,
   "metadata": {},
   "outputs": [
    {
     "name": "stdout",
     "output_type": "stream",
     "text": [
      "Sat Jan  2 17:30:10 2021 Hello!\n",
      "Sat Jan  2 17:30:11 2021 Hello from a thread\n",
      "Sat Jan  2 17:30:11 2021 Goodbye!\n"
     ]
    },
    {
     "ename": "RuntimeError",
     "evalue": "Cannot close a running event loop",
     "output_type": "error",
     "traceback": [
      "\u001b[0;31m---------------------------------------------------------------------------\u001b[0m",
      "\u001b[0;31mRuntimeError\u001b[0m                              Traceback (most recent call last)",
      "\u001b[0;32m<ipython-input-6-9ce4a28cb3e9>\u001b[0m in \u001b[0;36m<module>\u001b[0;34m\u001b[0m\n\u001b[1;32m     10\u001b[0m \u001b[0mgroup\u001b[0m \u001b[0;34m=\u001b[0m \u001b[0masyncio\u001b[0m\u001b[0;34m.\u001b[0m\u001b[0mgather\u001b[0m\u001b[0;34m(\u001b[0m\u001b[0;34m*\u001b[0m\u001b[0mpending\u001b[0m\u001b[0;34m,\u001b[0m \u001b[0mreturn_exceptions\u001b[0m\u001b[0;34m=\u001b[0m\u001b[0;32mTrue\u001b[0m\u001b[0;34m)\u001b[0m\u001b[0;34m\u001b[0m\u001b[0;34m\u001b[0m\u001b[0m\n\u001b[1;32m     11\u001b[0m \u001b[0mloop\u001b[0m\u001b[0;34m.\u001b[0m\u001b[0mrun_until_complete\u001b[0m\u001b[0;34m(\u001b[0m\u001b[0mgroup\u001b[0m\u001b[0;34m)\u001b[0m\u001b[0;34m\u001b[0m\u001b[0;34m\u001b[0m\u001b[0m\n\u001b[0;32m---> 12\u001b[0;31m \u001b[0mloop\u001b[0m\u001b[0;34m.\u001b[0m\u001b[0mclose\u001b[0m\u001b[0;34m(\u001b[0m\u001b[0;34m)\u001b[0m\u001b[0;34m\u001b[0m\u001b[0;34m\u001b[0m\u001b[0m\n\u001b[0m",
      "\u001b[0;32m/usr/lib/python3.6/asyncio/unix_events.py\u001b[0m in \u001b[0;36mclose\u001b[0;34m(self)\u001b[0m\n\u001b[1;32m     61\u001b[0m \u001b[0;34m\u001b[0m\u001b[0m\n\u001b[1;32m     62\u001b[0m     \u001b[0;32mdef\u001b[0m \u001b[0mclose\u001b[0m\u001b[0;34m(\u001b[0m\u001b[0mself\u001b[0m\u001b[0;34m)\u001b[0m\u001b[0;34m:\u001b[0m\u001b[0;34m\u001b[0m\u001b[0;34m\u001b[0m\u001b[0m\n\u001b[0;32m---> 63\u001b[0;31m         \u001b[0msuper\u001b[0m\u001b[0;34m(\u001b[0m\u001b[0;34m)\u001b[0m\u001b[0;34m.\u001b[0m\u001b[0mclose\u001b[0m\u001b[0;34m(\u001b[0m\u001b[0;34m)\u001b[0m\u001b[0;34m\u001b[0m\u001b[0;34m\u001b[0m\u001b[0m\n\u001b[0m\u001b[1;32m     64\u001b[0m         \u001b[0;32mif\u001b[0m \u001b[0;32mnot\u001b[0m \u001b[0msys\u001b[0m\u001b[0;34m.\u001b[0m\u001b[0mis_finalizing\u001b[0m\u001b[0;34m(\u001b[0m\u001b[0;34m)\u001b[0m\u001b[0;34m:\u001b[0m\u001b[0;34m\u001b[0m\u001b[0;34m\u001b[0m\u001b[0m\n\u001b[1;32m     65\u001b[0m             \u001b[0;32mfor\u001b[0m \u001b[0msig\u001b[0m \u001b[0;32min\u001b[0m \u001b[0mlist\u001b[0m\u001b[0;34m(\u001b[0m\u001b[0mself\u001b[0m\u001b[0;34m.\u001b[0m\u001b[0m_signal_handlers\u001b[0m\u001b[0;34m)\u001b[0m\u001b[0;34m:\u001b[0m\u001b[0;34m\u001b[0m\u001b[0;34m\u001b[0m\u001b[0m\n",
      "\u001b[0;32m/usr/lib/python3.6/asyncio/selector_events.py\u001b[0m in \u001b[0;36mclose\u001b[0;34m(self)\u001b[0m\n\u001b[1;32m     94\u001b[0m     \u001b[0;32mdef\u001b[0m \u001b[0mclose\u001b[0m\u001b[0;34m(\u001b[0m\u001b[0mself\u001b[0m\u001b[0;34m)\u001b[0m\u001b[0;34m:\u001b[0m\u001b[0;34m\u001b[0m\u001b[0;34m\u001b[0m\u001b[0m\n\u001b[1;32m     95\u001b[0m         \u001b[0;32mif\u001b[0m \u001b[0mself\u001b[0m\u001b[0;34m.\u001b[0m\u001b[0mis_running\u001b[0m\u001b[0;34m(\u001b[0m\u001b[0;34m)\u001b[0m\u001b[0;34m:\u001b[0m\u001b[0;34m\u001b[0m\u001b[0;34m\u001b[0m\u001b[0m\n\u001b[0;32m---> 96\u001b[0;31m             \u001b[0;32mraise\u001b[0m \u001b[0mRuntimeError\u001b[0m\u001b[0;34m(\u001b[0m\u001b[0;34m\"Cannot close a running event loop\"\u001b[0m\u001b[0;34m)\u001b[0m\u001b[0;34m\u001b[0m\u001b[0;34m\u001b[0m\u001b[0m\n\u001b[0m\u001b[1;32m     97\u001b[0m         \u001b[0;32mif\u001b[0m \u001b[0mself\u001b[0m\u001b[0;34m.\u001b[0m\u001b[0mis_closed\u001b[0m\u001b[0;34m(\u001b[0m\u001b[0;34m)\u001b[0m\u001b[0;34m:\u001b[0m\u001b[0;34m\u001b[0m\u001b[0;34m\u001b[0m\u001b[0m\n\u001b[1;32m     98\u001b[0m             \u001b[0;32mreturn\u001b[0m\u001b[0;34m\u001b[0m\u001b[0;34m\u001b[0m\u001b[0m\n",
      "\u001b[0;31mRuntimeError\u001b[0m: Cannot close a running event loop"
     ]
    }
   ],
   "source": [
    "loop = asyncio.get_event_loop()\n",
    "task = loop.create_task(main())\n",
    "\n",
    "loop.run_in_executor(None, blocking) #3\n",
    "loop.run_until_complete(task)\n",
    "\n",
    "pending = asyncio.all_tasks(loop=loop) #4\n",
    "for task in pending:\n",
    "    task.cancel()\n",
    "group = asyncio.gather(*pending, return_exceptions=True)\n",
    "loop.run_until_complete(group)\n",
    "loop.close()"
   ]
  },
  {
   "cell_type": "markdown",
   "metadata": {},
   "source": [
    "1. blocking () вызывает традиционный time.sleep () внутри, что заблокировало бы основной поток и предотвратило бы запуск вашего цикла событий. Это означает, что вы не должны делать эту функцию сопрограммой - действительно, вы даже не можете вызвать эту функцию из любого места в основном потоке, где выполняется цикл asyncio. Мы решаем эту проблему, запустив эту функцию в исполнителе.\n",
    "2. Не имеет отношения к этому разделу, но о чем следует помнить позже в книге: обратите внимание, что время блокирующего сна (0,5 секунды) короче, чем время неблокирующего сна (1 секунда) в сопрограмме main (). Это делает пример кода аккуратным и аккуратным. В разделе «Ожидание исполнителя во время завершения работы» на странице 68 мы рассмотрим, что произойдет, если функции исполнителя переживут свои асинхронные аналоги во время завершения работы.\n",
    "3. Это последний из нашего списка важных функций asyncio, которые необходимо знать. Иногда вам нужно запускать что-то в отдельном потоке или даже в отдельном процессе: этот метод используется именно для этого. Здесь мы передаем нашу функцию блокировки для запуска в исполнителе по умолчанию. Обратите внимание, что run_in_executor () не блокирует основной поток: он только планирует выполнение задачи исполнителя (он возвращает Future, что означает, что вы можете ожидать его, если метод вызывается в другой функции сопрограммы). Задача исполнителя начнет выполняться только после вызова run_until_complete (), что позволяет циклу обработки событий начать обработку событий.\n",
    "4. В дополнение к примечанию во фрагменте 2: набор задач в ожидании не включает запись для вызова blocking (), сделанного в run_in_executor (). Это будет верно для любого вызова, который возвращает Future, а не Task. Документация достаточно хороша для определения возвращаемых типов, поэтому вы увидите там возвращаемый тип; просто помните, что all_tasks () действительно возвращает только задачи, а не фичи."
   ]
  },
  {
   "cell_type": "code",
   "execution_count": null,
   "metadata": {},
   "outputs": [],
   "source": []
  }
 ],
 "metadata": {
  "kernelspec": {
   "display_name": "Python 3",
   "language": "python",
   "name": "python3"
  },
  "language_info": {
   "codemirror_mode": {
    "name": "ipython",
    "version": 3
   },
   "file_extension": ".py",
   "mimetype": "text/x-python",
   "name": "python",
   "nbconvert_exporter": "python",
   "pygments_lexer": "ipython3",
   "version": "3.6.9"
  }
 },
 "nbformat": 4,
 "nbformat_minor": 4
}
